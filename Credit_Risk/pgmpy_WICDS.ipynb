{
 "cells": [
  {
   "cell_type": "code",
   "execution_count": 4,
   "id": "904ec096",
   "metadata": {
    "collapsed": true
   },
   "outputs": [
    {
     "name": "stdout",
     "output_type": "stream",
     "text": [
      "Requirement already satisfied: pgmpy in c:\\users\\looi\\appdata\\local\\anaconda3\\lib\\site-packages (0.1.23)\n",
      "Requirement already satisfied: tqdm in c:\\users\\looi\\appdata\\local\\anaconda3\\lib\\site-packages (from pgmpy) (4.64.1)\n",
      "Requirement already satisfied: numpy in c:\\users\\looi\\appdata\\local\\anaconda3\\lib\\site-packages (from pgmpy) (1.23.5)\n",
      "Requirement already satisfied: scikit-learn in c:\\users\\looi\\appdata\\local\\anaconda3\\lib\\site-packages (from pgmpy) (1.2.1)\n",
      "Requirement already satisfied: pandas in c:\\users\\looi\\appdata\\local\\anaconda3\\lib\\site-packages (from pgmpy) (1.5.3)\n",
      "Requirement already satisfied: torch in c:\\users\\looi\\appdata\\local\\anaconda3\\lib\\site-packages (from pgmpy) (1.12.1)\n",
      "Requirement already satisfied: networkx in c:\\users\\looi\\appdata\\local\\anaconda3\\lib\\site-packages (from pgmpy) (3.1)\n",
      "Requirement already satisfied: pyparsing in c:\\users\\looi\\appdata\\local\\anaconda3\\lib\\site-packages (from pgmpy) (3.0.9)\n",
      "Requirement already satisfied: opt-einsum in c:\\users\\looi\\appdata\\local\\anaconda3\\lib\\site-packages (from pgmpy) (3.3.0)\n",
      "Requirement already satisfied: statsmodels in c:\\users\\looi\\appdata\\local\\anaconda3\\lib\\site-packages (from pgmpy) (0.13.5)\n",
      "Requirement already satisfied: scipy in c:\\users\\looi\\appdata\\roaming\\python\\python310\\site-packages (from pgmpy) (1.11.1)\n",
      "Requirement already satisfied: joblib in c:\\users\\looi\\appdata\\local\\anaconda3\\lib\\site-packages (from pgmpy) (1.1.1)\n",
      "Requirement already satisfied: pytz>=2020.1 in c:\\users\\looi\\appdata\\local\\anaconda3\\lib\\site-packages (from pandas->pgmpy) (2022.7)\n",
      "Requirement already satisfied: python-dateutil>=2.8.1 in c:\\users\\looi\\appdata\\local\\anaconda3\\lib\\site-packages (from pandas->pgmpy) (2.8.2)\n",
      "Requirement already satisfied: threadpoolctl>=2.0.0 in c:\\users\\looi\\appdata\\local\\anaconda3\\lib\\site-packages (from scikit-learn->pgmpy) (2.2.0)\n",
      "Requirement already satisfied: patsy>=0.5.2 in c:\\users\\looi\\appdata\\local\\anaconda3\\lib\\site-packages (from statsmodels->pgmpy) (0.5.3)\n",
      "Requirement already satisfied: packaging>=21.3 in c:\\users\\looi\\appdata\\local\\anaconda3\\lib\\site-packages (from statsmodels->pgmpy) (22.0)\n",
      "Requirement already satisfied: typing_extensions in c:\\users\\looi\\appdata\\local\\anaconda3\\lib\\site-packages (from torch->pgmpy) (4.4.0)\n",
      "Requirement already satisfied: colorama in c:\\users\\looi\\appdata\\local\\anaconda3\\lib\\site-packages (from tqdm->pgmpy) (0.4.6)\n",
      "Requirement already satisfied: six in c:\\users\\looi\\appdata\\local\\anaconda3\\lib\\site-packages (from patsy>=0.5.2->statsmodels->pgmpy) (1.16.0)\n",
      "Collecting feature_engine\n",
      "  Using cached feature_engine-1.6.1-py2.py3-none-any.whl (326 kB)\n",
      "Requirement already satisfied: scikit-learn>=1.0.0 in c:\\users\\looi\\appdata\\local\\anaconda3\\lib\\site-packages (from feature_engine) (1.2.1)\n",
      "Requirement already satisfied: scipy>=1.4.1 in c:\\users\\looi\\appdata\\roaming\\python\\python310\\site-packages (from feature_engine) (1.11.1)\n",
      "Requirement already satisfied: numpy>=1.18.2 in c:\\users\\looi\\appdata\\local\\anaconda3\\lib\\site-packages (from feature_engine) (1.23.5)\n",
      "Requirement already satisfied: statsmodels>=0.11.1 in c:\\users\\looi\\appdata\\local\\anaconda3\\lib\\site-packages (from feature_engine) (0.13.5)\n",
      "Requirement already satisfied: pandas>=1.0.3 in c:\\users\\looi\\appdata\\local\\anaconda3\\lib\\site-packages (from feature_engine) (1.5.3)\n",
      "Requirement already satisfied: python-dateutil>=2.8.1 in c:\\users\\looi\\appdata\\local\\anaconda3\\lib\\site-packages (from pandas>=1.0.3->feature_engine) (2.8.2)\n",
      "Requirement already satisfied: pytz>=2020.1 in c:\\users\\looi\\appdata\\local\\anaconda3\\lib\\site-packages (from pandas>=1.0.3->feature_engine) (2022.7)\n",
      "Requirement already satisfied: threadpoolctl>=2.0.0 in c:\\users\\looi\\appdata\\local\\anaconda3\\lib\\site-packages (from scikit-learn>=1.0.0->feature_engine) (2.2.0)\n",
      "Requirement already satisfied: joblib>=1.1.1 in c:\\users\\looi\\appdata\\local\\anaconda3\\lib\\site-packages (from scikit-learn>=1.0.0->feature_engine) (1.1.1)\n",
      "Requirement already satisfied: patsy>=0.5.2 in c:\\users\\looi\\appdata\\local\\anaconda3\\lib\\site-packages (from statsmodels>=0.11.1->feature_engine) (0.5.3)\n",
      "Requirement already satisfied: packaging>=21.3 in c:\\users\\looi\\appdata\\local\\anaconda3\\lib\\site-packages (from statsmodels>=0.11.1->feature_engine) (22.0)\n",
      "Requirement already satisfied: six in c:\\users\\looi\\appdata\\local\\anaconda3\\lib\\site-packages (from patsy>=0.5.2->statsmodels>=0.11.1->feature_engine) (1.16.0)\n",
      "Installing collected packages: feature_engine\n",
      "Successfully installed feature_engine-1.6.1\n"
     ]
    }
   ],
   "source": [
    "!pip install pgmpy\n",
    "!pip install feature_engine"
   ]
  },
  {
   "cell_type": "code",
   "execution_count": 5,
   "id": "acfbbf06",
   "metadata": {},
   "outputs": [],
   "source": [
    "import pandas as pd\n",
    "import numpy as np\n",
    "\n",
    "from pgmpy.estimators import HillClimbSearch, MaximumLikelihoodEstimator, BicScore\n",
    "from pgmpy.models import BayesianModel\n",
    "from pgmpy.inference import VariableElimination\n",
    "\n",
    "from feature_engine import discretisation as dsc\n",
    "\n",
    "import networkx as nx\n",
    "import pylab as plt\n",
    "import time\n",
    "\n",
    "import warnings\n",
    "warnings.filterwarnings('ignore')\n",
    "\n",
    "from IPython.core.interactiveshell import InteractiveShell\n",
    "InteractiveShell.ast_node_interactivity = \"all\""
   ]
  },
  {
   "cell_type": "code",
   "execution_count": 28,
   "id": "4636e75c",
   "metadata": {},
   "outputs": [],
   "source": [
    "import matplotlib.pyplot as plt2"
   ]
  },
  {
   "cell_type": "code",
   "execution_count": 6,
   "id": "fa67a2eb",
   "metadata": {},
   "outputs": [],
   "source": [
    "df_credit = pd.read_csv(\"german_credit.csv\")"
   ]
  },
  {
   "cell_type": "code",
   "execution_count": 7,
   "id": "da9efc2e",
   "metadata": {},
   "outputs": [],
   "source": [
    "target = \"Risk\""
   ]
  },
  {
   "cell_type": "code",
   "execution_count": 8,
   "id": "97c01558",
   "metadata": {},
   "outputs": [
    {
     "data": {
      "text/html": [
       "<div>\n",
       "<style scoped>\n",
       "    .dataframe tbody tr th:only-of-type {\n",
       "        vertical-align: middle;\n",
       "    }\n",
       "\n",
       "    .dataframe tbody tr th {\n",
       "        vertical-align: top;\n",
       "    }\n",
       "\n",
       "    .dataframe thead th {\n",
       "        text-align: right;\n",
       "    }\n",
       "</style>\n",
       "<table border=\"1\" class=\"dataframe\">\n",
       "  <thead>\n",
       "    <tr style=\"text-align: right;\">\n",
       "      <th></th>\n",
       "      <th>Credit History</th>\n",
       "      <th>Age</th>\n",
       "      <th>Gender</th>\n",
       "      <th>Job</th>\n",
       "      <th>Housing</th>\n",
       "      <th>Saving accounts</th>\n",
       "      <th>Credit amount</th>\n",
       "      <th>Duration</th>\n",
       "      <th>Purpose</th>\n",
       "      <th>Risk</th>\n",
       "    </tr>\n",
       "  </thead>\n",
       "  <tbody>\n",
       "    <tr>\n",
       "      <th>0</th>\n",
       "      <td>4</td>\n",
       "      <td>67</td>\n",
       "      <td>male</td>\n",
       "      <td>2</td>\n",
       "      <td>own</td>\n",
       "      <td>NaN</td>\n",
       "      <td>1169</td>\n",
       "      <td>6</td>\n",
       "      <td>radio/TV</td>\n",
       "      <td>good</td>\n",
       "    </tr>\n",
       "    <tr>\n",
       "      <th>1</th>\n",
       "      <td>2</td>\n",
       "      <td>22</td>\n",
       "      <td>female</td>\n",
       "      <td>2</td>\n",
       "      <td>own</td>\n",
       "      <td>little</td>\n",
       "      <td>5951</td>\n",
       "      <td>48</td>\n",
       "      <td>radio/TV</td>\n",
       "      <td>bad</td>\n",
       "    </tr>\n",
       "    <tr>\n",
       "      <th>2</th>\n",
       "      <td>4</td>\n",
       "      <td>49</td>\n",
       "      <td>male</td>\n",
       "      <td>1</td>\n",
       "      <td>own</td>\n",
       "      <td>little</td>\n",
       "      <td>2096</td>\n",
       "      <td>12</td>\n",
       "      <td>education</td>\n",
       "      <td>good</td>\n",
       "    </tr>\n",
       "    <tr>\n",
       "      <th>3</th>\n",
       "      <td>2</td>\n",
       "      <td>45</td>\n",
       "      <td>male</td>\n",
       "      <td>2</td>\n",
       "      <td>free</td>\n",
       "      <td>little</td>\n",
       "      <td>7882</td>\n",
       "      <td>42</td>\n",
       "      <td>furniture/equipment</td>\n",
       "      <td>good</td>\n",
       "    </tr>\n",
       "    <tr>\n",
       "      <th>4</th>\n",
       "      <td>3</td>\n",
       "      <td>53</td>\n",
       "      <td>male</td>\n",
       "      <td>2</td>\n",
       "      <td>free</td>\n",
       "      <td>little</td>\n",
       "      <td>4870</td>\n",
       "      <td>24</td>\n",
       "      <td>car</td>\n",
       "      <td>bad</td>\n",
       "    </tr>\n",
       "  </tbody>\n",
       "</table>\n",
       "</div>"
      ],
      "text/plain": [
       "   Credit History  Age  Gender  Job Housing Saving accounts  Credit amount  \\\n",
       "0               4   67    male    2     own             NaN           1169   \n",
       "1               2   22  female    2     own          little           5951   \n",
       "2               4   49    male    1     own          little           2096   \n",
       "3               2   45    male    2    free          little           7882   \n",
       "4               3   53    male    2    free          little           4870   \n",
       "\n",
       "   Duration              Purpose  Risk  \n",
       "0         6             radio/TV  good  \n",
       "1        48             radio/TV   bad  \n",
       "2        12            education  good  \n",
       "3        42  furniture/equipment  good  \n",
       "4        24                  car   bad  "
      ]
     },
     "execution_count": 8,
     "metadata": {},
     "output_type": "execute_result"
    }
   ],
   "source": [
    "df_credit.head()"
   ]
  },
  {
   "cell_type": "code",
   "execution_count": 9,
   "id": "23130f45",
   "metadata": {},
   "outputs": [
    {
     "name": "stdout",
     "output_type": "stream",
     "text": [
      "Credit History :  5\n",
      "Age :  53\n",
      "Gender :  2\n",
      "Job :  4\n",
      "Housing :  3\n",
      "Saving accounts :  5\n",
      "Credit amount :  921\n",
      "Duration :  33\n",
      "Purpose :  8\n",
      "Risk :  2\n"
     ]
    }
   ],
   "source": [
    "### Lets say if a feature has more than 32 unique values, we will bin it\n",
    "col_list = []\n",
    "for col in df_credit.columns:\n",
    "    print(col, \": \", len(df_credit[col].unique()))\n",
    "    if(len(df_credit[col].unique()) > 32):\n",
    "        col_list.append(col)"
   ]
  },
  {
   "cell_type": "code",
   "execution_count": 10,
   "id": "c51aab1f",
   "metadata": {},
   "outputs": [],
   "source": [
    "num_bins = 3\n",
    "disc = dsc.EqualFrequencyDiscretiser(q=num_bins, variables=col_list)\n",
    "df_binned = disc.fit(df_credit[col_list])\n",
    "equalfrequency_discretizer_dict = disc.binner_dict_\n",
    "bin_df_equalfrequency = pd.DataFrame.from_dict(equalfrequency_discretizer_dict, orient = 'index')  "
   ]
  },
  {
   "cell_type": "code",
   "execution_count": 11,
   "id": "3a4ce792",
   "metadata": {},
   "outputs": [
    {
     "data": {
      "text/html": [
       "<div>\n",
       "<style scoped>\n",
       "    .dataframe tbody tr th:only-of-type {\n",
       "        vertical-align: middle;\n",
       "    }\n",
       "\n",
       "    .dataframe tbody tr th {\n",
       "        vertical-align: top;\n",
       "    }\n",
       "\n",
       "    .dataframe thead th {\n",
       "        text-align: right;\n",
       "    }\n",
       "</style>\n",
       "<table border=\"1\" class=\"dataframe\">\n",
       "  <thead>\n",
       "    <tr style=\"text-align: right;\">\n",
       "      <th></th>\n",
       "      <th>0</th>\n",
       "      <th>1</th>\n",
       "      <th>2</th>\n",
       "      <th>3</th>\n",
       "    </tr>\n",
       "  </thead>\n",
       "  <tbody>\n",
       "    <tr>\n",
       "      <th>Age</th>\n",
       "      <td>-inf</td>\n",
       "      <td>28.0</td>\n",
       "      <td>38.0</td>\n",
       "      <td>inf</td>\n",
       "    </tr>\n",
       "    <tr>\n",
       "      <th>Credit amount</th>\n",
       "      <td>-inf</td>\n",
       "      <td>1554.0</td>\n",
       "      <td>3368.0</td>\n",
       "      <td>inf</td>\n",
       "    </tr>\n",
       "    <tr>\n",
       "      <th>Duration</th>\n",
       "      <td>-inf</td>\n",
       "      <td>12.0</td>\n",
       "      <td>24.0</td>\n",
       "      <td>inf</td>\n",
       "    </tr>\n",
       "  </tbody>\n",
       "</table>\n",
       "</div>"
      ],
      "text/plain": [
       "                 0       1       2    3\n",
       "Age           -inf    28.0    38.0  inf\n",
       "Credit amount -inf  1554.0  3368.0  inf\n",
       "Duration      -inf    12.0    24.0  inf"
      ]
     },
     "execution_count": 11,
     "metadata": {},
     "output_type": "execute_result"
    }
   ],
   "source": [
    "bin_df_equalfrequency"
   ]
  },
  {
   "cell_type": "code",
   "execution_count": 12,
   "id": "665a9d63",
   "metadata": {},
   "outputs": [
    {
     "data": {
      "text/plain": [
       "(19, 75)"
      ]
     },
     "execution_count": 12,
     "metadata": {},
     "output_type": "execute_result"
    }
   ],
   "source": [
    "### Age has min and max as 19 and 75 respectively\n",
    "min(df_credit['Age'].unique()), max(df_credit['Age'].unique())\n",
    "bin_age = ['19 to 28', '28 to 38', '38 to 75']"
   ]
  },
  {
   "cell_type": "code",
   "execution_count": 13,
   "id": "9bd86115",
   "metadata": {},
   "outputs": [
    {
     "data": {
      "text/plain": [
       "(250, 18424)"
      ]
     },
     "execution_count": 13,
     "metadata": {},
     "output_type": "execute_result"
    }
   ],
   "source": [
    "### Credit amount has min and max as 250 and 18424 respectively\n",
    "min(df_credit['Credit amount'].unique()), max(df_credit['Credit amount'].unique())\n",
    "bin_credit_amount = ['250 to 1554', '1554 to 3368', '3368 to 18424']"
   ]
  },
  {
   "cell_type": "code",
   "execution_count": 14,
   "id": "093610f6",
   "metadata": {},
   "outputs": [
    {
     "data": {
      "text/plain": [
       "(4, 72)"
      ]
     },
     "execution_count": 14,
     "metadata": {},
     "output_type": "execute_result"
    }
   ],
   "source": [
    "### Duration has min and max as 4 and 72 respectively\n",
    "min(df_credit.Duration.unique()), max(df_credit.Duration.unique())\n",
    "bin_duration = ['4 to 12', '12 to 24', '24 to 72']"
   ]
  },
  {
   "cell_type": "code",
   "execution_count": 15,
   "id": "73aa641c",
   "metadata": {},
   "outputs": [],
   "source": [
    "df_credit['Age'] = pd.cut(df_credit['Age'], 3, labels= bin_age)\n",
    "df_credit['Credit amount'] = pd.cut(df_credit['Credit amount'], 3, labels= bin_credit_amount)\n",
    "df_credit['Duration'] = pd.cut(df_credit['Duration'], 3, labels= bin_duration)\n"
   ]
  },
  {
   "cell_type": "code",
   "execution_count": 16,
   "id": "04bbd312",
   "metadata": {},
   "outputs": [
    {
     "data": {
      "text/html": [
       "<div>\n",
       "<style scoped>\n",
       "    .dataframe tbody tr th:only-of-type {\n",
       "        vertical-align: middle;\n",
       "    }\n",
       "\n",
       "    .dataframe tbody tr th {\n",
       "        vertical-align: top;\n",
       "    }\n",
       "\n",
       "    .dataframe thead th {\n",
       "        text-align: right;\n",
       "    }\n",
       "</style>\n",
       "<table border=\"1\" class=\"dataframe\">\n",
       "  <thead>\n",
       "    <tr style=\"text-align: right;\">\n",
       "      <th></th>\n",
       "      <th>Credit History</th>\n",
       "      <th>Job</th>\n",
       "    </tr>\n",
       "  </thead>\n",
       "  <tbody>\n",
       "    <tr>\n",
       "      <th>count</th>\n",
       "      <td>1000.00000</td>\n",
       "      <td>1000.000000</td>\n",
       "    </tr>\n",
       "    <tr>\n",
       "      <th>mean</th>\n",
       "      <td>2.54500</td>\n",
       "      <td>1.904000</td>\n",
       "    </tr>\n",
       "    <tr>\n",
       "      <th>std</th>\n",
       "      <td>1.08312</td>\n",
       "      <td>0.653614</td>\n",
       "    </tr>\n",
       "    <tr>\n",
       "      <th>min</th>\n",
       "      <td>0.00000</td>\n",
       "      <td>0.000000</td>\n",
       "    </tr>\n",
       "    <tr>\n",
       "      <th>25%</th>\n",
       "      <td>2.00000</td>\n",
       "      <td>2.000000</td>\n",
       "    </tr>\n",
       "    <tr>\n",
       "      <th>50%</th>\n",
       "      <td>2.00000</td>\n",
       "      <td>2.000000</td>\n",
       "    </tr>\n",
       "    <tr>\n",
       "      <th>75%</th>\n",
       "      <td>4.00000</td>\n",
       "      <td>2.000000</td>\n",
       "    </tr>\n",
       "    <tr>\n",
       "      <th>max</th>\n",
       "      <td>4.00000</td>\n",
       "      <td>3.000000</td>\n",
       "    </tr>\n",
       "  </tbody>\n",
       "</table>\n",
       "</div>"
      ],
      "text/plain": [
       "       Credit History          Job\n",
       "count      1000.00000  1000.000000\n",
       "mean          2.54500     1.904000\n",
       "std           1.08312     0.653614\n",
       "min           0.00000     0.000000\n",
       "25%           2.00000     2.000000\n",
       "50%           2.00000     2.000000\n",
       "75%           4.00000     2.000000\n",
       "max           4.00000     3.000000"
      ]
     },
     "execution_count": 16,
     "metadata": {},
     "output_type": "execute_result"
    }
   ],
   "source": [
    "df_credit.describe()"
   ]
  },
  {
   "cell_type": "code",
   "execution_count": 17,
   "id": "310c1708",
   "metadata": {},
   "outputs": [
    {
     "data": {
      "text/plain": [
       "(1000, 10)"
      ]
     },
     "execution_count": 17,
     "metadata": {},
     "output_type": "execute_result"
    },
    {
     "data": {
      "text/plain": [
       "(900, 10)"
      ]
     },
     "execution_count": 17,
     "metadata": {},
     "output_type": "execute_result"
    },
    {
     "data": {
      "text/plain": [
       "(100, 10)"
      ]
     },
     "execution_count": 17,
     "metadata": {},
     "output_type": "execute_result"
    }
   ],
   "source": [
    "df_train = df_credit[:900]\n",
    "df_test = df_credit[900:]\n",
    "df_credit.shape\n",
    "df_train.shape\n",
    "df_test.shape"
   ]
  },
  {
   "cell_type": "code",
   "execution_count": 50,
   "id": "b41ad7f5",
   "metadata": {},
   "outputs": [
    {
     "data": {
      "application/vnd.jupyter.widget-view+json": {
       "model_id": "30253ee4361d49f880ad73c1a6ed6b20",
       "version_major": 2,
       "version_minor": 0
      },
      "text/plain": [
       "  0%|          | 0/1000000 [00:00<?, ?it/s]"
      ]
     },
     "metadata": {},
     "output_type": "display_data"
    }
   ],
   "source": [
    "hc = HillClimbSearch(df_train)\n",
    "best_model = hc.estimate(scoring_method=BicScore(df_train))\n",
    "edges = list(best_model.edges())\n",
    "model = BayesianModel(edges)"
   ]
  },
  {
   "cell_type": "code",
   "execution_count": 51,
   "id": "763f1ccd",
   "metadata": {},
   "outputs": [],
   "source": [
    "nx_graph = nx.DiGraph()\n",
    "nx_graph.add_edges_from(edges)"
   ]
  },
  {
   "cell_type": "code",
   "execution_count": 52,
   "id": "21c804bf",
   "metadata": {
    "scrolled": true
   },
   "outputs": [
    {
     "data": {
      "text/plain": [
       "<Figure size 1000x800 with 0 Axes>"
      ]
     },
     "execution_count": 52,
     "metadata": {},
     "output_type": "execute_result"
    },
    {
     "data": {
      "image/png": "[encoded data removed]",
      "text/plain": [
       "<Figure size 1000x800 with 1 Axes>"
      ]
     },
     "metadata": {},
     "output_type": "display_data"
    }
   ],
   "source": [
    "plt.figure(figsize=(10, 8))\n",
    "pos = nx.spring_layout(nx_graph)\n",
    "nx.draw(nx_graph, pos=pos, with_labels=True, node_size=2000, node_color=\"orange\", width=2, font_size=10)\n",
    "plt.show()"
   ]
  },
  {
   "cell_type": "code",
   "execution_count": null,
   "id": "7c486ed9",
   "metadata": {},
   "outputs": [],
   "source": []
  },
  {
   "cell_type": "code",
   "execution_count": null,
   "id": "68bc89c6",
   "metadata": {},
   "outputs": [],
   "source": []
  },
  {
   "cell_type": "code",
   "execution_count": null,
   "id": "c99e5609",
   "metadata": {},
   "outputs": [],
   "source": []
  },
  {
   "cell_type": "code",
   "execution_count": null,
   "id": "214eeef1",
   "metadata": {},
   "outputs": [],
   "source": []
  },
  {
   "cell_type": "code",
   "execution_count": null,
   "id": "46a06c92",
   "metadata": {},
   "outputs": [],
   "source": []
  },
  {
   "cell_type": "code",
   "execution_count": 38,
   "id": "8f62f5bf",
   "metadata": {
    "collapsed": true
   },
   "outputs": [
    {
     "ename": "ValueError",
     "evalue": "Received invalid argument(s): with_label",
     "output_type": "error",
     "traceback": [
      "\u001b[1;31m---------------------------------------------------------------------------\u001b[0m",
      "\u001b[1;31mValueError\u001b[0m                                Traceback (most recent call last)",
      "Cell \u001b[1;32mIn[38], line 2\u001b[0m\n\u001b[0;32m      1\u001b[0m G\u001b[38;5;241m.\u001b[39madd_edges_from(edges)\n\u001b[1;32m----> 2\u001b[0m \u001b[43mnx\u001b[49m\u001b[38;5;241;43m.\u001b[39;49m\u001b[43mdraw_networkx\u001b[49m\u001b[43m(\u001b[49m\u001b[43mG\u001b[49m\u001b[43m,\u001b[49m\u001b[43m \u001b[49m\u001b[43mwith_label\u001b[49m\u001b[43m \u001b[49m\u001b[38;5;241;43m=\u001b[39;49m\u001b[43m \u001b[49m\u001b[38;5;28;43;01mTrue\u001b[39;49;00m\u001b[43m)\u001b[49m\n\u001b[0;32m      4\u001b[0m \u001b[38;5;28mprint\u001b[39m(\u001b[38;5;124m\"\u001b[39m\u001b[38;5;124mTotal number of nodes: \u001b[39m\u001b[38;5;124m\"\u001b[39m, \u001b[38;5;28mint\u001b[39m(G\u001b[38;5;241m.\u001b[39mnumber_of_nodes()))\n\u001b[0;32m      5\u001b[0m \u001b[38;5;28mprint\u001b[39m(\u001b[38;5;124m\"\u001b[39m\u001b[38;5;124mTotal number of edges: \u001b[39m\u001b[38;5;124m\"\u001b[39m, \u001b[38;5;28mint\u001b[39m(G\u001b[38;5;241m.\u001b[39mnumber_of_edges()))\n",
      "File \u001b[1;32m~\\AppData\\Local\\anaconda3\\lib\\site-packages\\networkx\\drawing\\nx_pylab.py:294\u001b[0m, in \u001b[0;36mdraw_networkx\u001b[1;34m(G, pos, arrows, with_labels, **kwds)\u001b[0m\n\u001b[0;32m    292\u001b[0m \u001b[38;5;28;01mif\u001b[39;00m \u001b[38;5;28many\u001b[39m(k \u001b[38;5;129;01mnot\u001b[39;00m \u001b[38;5;129;01min\u001b[39;00m valid_kwds \u001b[38;5;28;01mfor\u001b[39;00m k \u001b[38;5;129;01min\u001b[39;00m kwds):\n\u001b[0;32m    293\u001b[0m     invalid_args \u001b[38;5;241m=\u001b[39m \u001b[38;5;124m\"\u001b[39m\u001b[38;5;124m, \u001b[39m\u001b[38;5;124m\"\u001b[39m\u001b[38;5;241m.\u001b[39mjoin([k \u001b[38;5;28;01mfor\u001b[39;00m k \u001b[38;5;129;01min\u001b[39;00m kwds \u001b[38;5;28;01mif\u001b[39;00m k \u001b[38;5;129;01mnot\u001b[39;00m \u001b[38;5;129;01min\u001b[39;00m valid_kwds])\n\u001b[1;32m--> 294\u001b[0m     \u001b[38;5;28;01mraise\u001b[39;00m \u001b[38;5;167;01mValueError\u001b[39;00m(\u001b[38;5;124mf\u001b[39m\u001b[38;5;124m\"\u001b[39m\u001b[38;5;124mReceived invalid argument(s): \u001b[39m\u001b[38;5;132;01m{\u001b[39;00minvalid_args\u001b[38;5;132;01m}\u001b[39;00m\u001b[38;5;124m\"\u001b[39m)\n\u001b[0;32m    296\u001b[0m node_kwds \u001b[38;5;241m=\u001b[39m {k: v \u001b[38;5;28;01mfor\u001b[39;00m k, v \u001b[38;5;129;01min\u001b[39;00m kwds\u001b[38;5;241m.\u001b[39mitems() \u001b[38;5;28;01mif\u001b[39;00m k \u001b[38;5;129;01min\u001b[39;00m valid_node_kwds}\n\u001b[0;32m    297\u001b[0m edge_kwds \u001b[38;5;241m=\u001b[39m {k: v \u001b[38;5;28;01mfor\u001b[39;00m k, v \u001b[38;5;129;01min\u001b[39;00m kwds\u001b[38;5;241m.\u001b[39mitems() \u001b[38;5;28;01mif\u001b[39;00m k \u001b[38;5;129;01min\u001b[39;00m valid_edge_kwds}\n",
      "\u001b[1;31mValueError\u001b[0m: Received invalid argument(s): with_label"
     ]
    }
   ],
   "source": [
    "G.add_edges_from(edges)\n",
    "nx.draw_networkx(G, with_label = True)\n",
    "  \n",
    "print(\"Total number of nodes: \", int(G.number_of_nodes()))\n",
    "print(\"Total number of edges: \", int(G.number_of_edges()))\n",
    "print(\"List of all nodes: \", list(G.nodes()))\n",
    "print(\"List of all edges: \", list(G.edges(data = True)))\n",
    "print(\"Degree for all nodes: \", dict(G.degree()))\n",
    "  \n",
    "print(\"Total number of self-loops: \", int(G.number_of_selfloops()))\n",
    "print(\"List of all nodes with self-loops: \",\n",
    "             list(G.nodes_with_selfloops()))\n",
    "  \n",
    "print(\"List of all nodes we can go to in a single step from node 2: \",\n",
    "                                                 list(G.neighbors(2)))"
   ]
  },
  {
   "cell_type": "code",
   "execution_count": 42,
   "id": "be52d8f0",
   "metadata": {},
   "outputs": [],
   "source": [
    "import matplotlib as mpl"
   ]
  },
  {
   "cell_type": "code",
   "execution_count": 43,
   "id": "b711f384",
   "metadata": {},
   "outputs": [
    {
     "data": {
      "text/plain": [
       "<matplotlib.colorbar.Colorbar at 0x22a1ac7f370>"
      ]
     },
     "execution_count": 43,
     "metadata": {},
     "output_type": "execute_result"
    },
    {
     "data": {
      "image/png": "[encoded data removed]",
      "text/plain": [
       "<Figure size 640x480 with 2 Axes>"
      ]
     },
     "metadata": {},
     "output_type": "display_data"
    }
   ],
   "source": [
    "seed =42\n",
    "G = nx.random_k_out_graph(10, 3, 0.5, seed=seed)\n",
    "pos = nx.spring_layout(G, seed=seed)\n",
    "\n",
    "node_sizes = [3 + 10 * i for i in range(len(G))]\n",
    "M = G.number_of_edges()\n",
    "edge_colors = range(2, M + 2)\n",
    "edge_alphas = [(5 + i) / (M + 4) for i in range(M)]\n",
    "cmap = plt.cm.plasma\n",
    "\n",
    "nodes = nx.draw_networkx_nodes(G, pos, node_size=node_sizes, node_color=\"indigo\")\n",
    "edges = nx.draw_networkx_edges(\n",
    "    G,\n",
    "    pos,\n",
    "    node_size=node_sizes,\n",
    "    arrowstyle=\"->\",\n",
    "    arrowsize=10,\n",
    "    edge_color=edge_colors,\n",
    "    edge_cmap=cmap,\n",
    "    width=2,\n",
    ")\n",
    "# set alpha value for each edge\n",
    "for i in range(M):\n",
    "    edges[i].set_alpha(edge_alphas[i])\n",
    "\n",
    "pc = mpl.collections.PatchCollection(edges, cmap=cmap)\n",
    "pc.set_array(edge_colors)\n",
    "\n",
    "ax = plt.gca()\n",
    "ax.set_axis_off()\n",
    "plt.colorbar(pc, ax=ax)\n",
    "plt.show()"
   ]
  },
  {
   "cell_type": "code",
   "execution_count": null,
   "id": "b3280436",
   "metadata": {},
   "outputs": [],
   "source": []
  },
  {
   "cell_type": "code",
   "execution_count": null,
   "id": "ef64ab07",
   "metadata": {},
   "outputs": [],
   "source": []
  },
  {
   "cell_type": "markdown",
   "id": "ddb61564",
   "metadata": {},
   "source": [
    "Diagnostic plot "
   ]
  },
  {
   "cell_type": "code",
   "execution_count": 49,
   "id": "60ae53ee",
   "metadata": {},
   "outputs": [
    {
     "name": "stdout",
     "output_type": "stream",
     "text": [
      "Nodes in the graph: ['Gender', 'Housing', 'Age', 'Credit amount', 'Duration', 'Job', 'Risk', 'Credit History', 'Saving accounts']\n",
      "Edges in the graph: [('Gender', 'Housing'), ('Housing', 'Age'), ('Credit amount', 'Duration'), ('Credit amount', 'Job'), ('Duration', 'Risk'), ('Risk', 'Credit History'), ('Risk', 'Saving accounts')]\n"
     ]
    }
   ],
   "source": [
    "print(\"Nodes in the graph:\", model.nodes())\n",
    "print(\"Edges in the graph:\", model.edges())"
   ]
  },
  {
   "cell_type": "code",
   "execution_count": 22,
   "id": "ed80429f",
   "metadata": {},
   "outputs": [],
   "source": [
    "# Fitting the data to the model using Maximum Likelihood Estimator\n",
    "model.fit(df_train, estimator=MaximumLikelihoodEstimator)\n",
    "\n",
    "# Doing exact inference using Variable Elimination\n",
    "infer = VariableElimination(model)"
   ]
  },
  {
   "cell_type": "code",
   "execution_count": 23,
   "id": "770365c5",
   "metadata": {},
   "outputs": [
    {
     "data": {
      "text/plain": [
       "['Credit History', 'Saving accounts']"
      ]
     },
     "execution_count": 23,
     "metadata": {},
     "output_type": "execute_result"
    }
   ],
   "source": [
    "model.get_children(target)"
   ]
  },
  {
   "cell_type": "code",
   "execution_count": 24,
   "id": "6c674f3a",
   "metadata": {},
   "outputs": [
    {
     "data": {
      "text/plain": [
       "['Duration']"
      ]
     },
     "execution_count": 24,
     "metadata": {},
     "output_type": "execute_result"
    }
   ],
   "source": [
    "model.get_parents(target)"
   ]
  },
  {
   "cell_type": "markdown",
   "id": "27c7976c",
   "metadata": {},
   "source": [
    "Joint Distribution"
   ]
  },
  {
   "cell_type": "code",
   "execution_count": 25,
   "id": "de89eb45",
   "metadata": {},
   "outputs": [
    {
     "name": "stdout",
     "output_type": "stream",
     "text": [
      "+------------+----------------+--------------------+\n",
      "| Risk       | Gender         |   phi(Risk,Gender) |\n",
      "+============+================+====================+\n",
      "| Risk(bad)  | Gender(female) |             0.1025 |\n",
      "+------------+----------------+--------------------+\n",
      "| Risk(bad)  | Gender(male)   |             0.2177 |\n",
      "+------------+----------------+--------------------+\n",
      "| Risk(good) | Gender(female) |             0.2177 |\n",
      "+------------+----------------+--------------------+\n",
      "| Risk(good) | Gender(male)   |             0.4621 |\n",
      "+------------+----------------+--------------------+\n"
     ]
    }
   ],
   "source": [
    "print(infer.query(variables=[target, 'Gender'], joint= True))"
   ]
  },
  {
   "cell_type": "code",
   "execution_count": 26,
   "id": "36af66af",
   "metadata": {},
   "outputs": [
    {
     "name": "stdout",
     "output_type": "stream",
     "text": [
      "+------------+-------------+\n",
      "| Risk       |   phi(Risk) |\n",
      "+============+=============+\n",
      "| Risk(bad)  |      0.3202 |\n",
      "+------------+-------------+\n",
      "| Risk(good) |      0.6798 |\n",
      "+------------+-------------+\n",
      "+------------+-------------+\n",
      "| Risk       |   phi(Risk) |\n",
      "+============+=============+\n",
      "| Risk(bad)  |      0.3202 |\n",
      "+------------+-------------+\n",
      "| Risk(good) |      0.6798 |\n",
      "+------------+-------------+\n"
     ]
    }
   ],
   "source": [
    "print(infer.query(variables=[target], evidence={'Gender': 'male'}))\n",
    "print(infer.query(variables=[target], evidence={'Gender': 'female'}))"
   ]
  },
  {
   "cell_type": "code",
   "execution_count": 27,
   "id": "ad8bbf2b",
   "metadata": {},
   "outputs": [
    {
     "name": "stdout",
     "output_type": "stream",
     "text": [
      "250 to 1554\n",
      "+------------+-------------+\n",
      "| Risk       |   phi(Risk) |\n",
      "+============+=============+\n",
      "| Risk(bad)  |      0.3043 |\n",
      "+------------+-------------+\n",
      "| Risk(good) |      0.6957 |\n",
      "+------------+-------------+\n",
      "1554 to 3368\n",
      "+------------+-------------+\n",
      "| Risk       |   phi(Risk) |\n",
      "+============+=============+\n",
      "| Risk(bad)  |      0.4397 |\n",
      "+------------+-------------+\n",
      "| Risk(good) |      0.5603 |\n",
      "+------------+-------------+\n",
      "3368 to 18424\n",
      "+------------+-------------+\n",
      "| Risk       |   phi(Risk) |\n",
      "+============+=============+\n",
      "| Risk(bad)  |      0.5214 |\n",
      "+------------+-------------+\n",
      "| Risk(good) |      0.4786 |\n",
      "+------------+-------------+\n"
     ]
    }
   ],
   "source": [
    "list_range = bin_credit_amount\n",
    "for i in list_range:\n",
    "    print(i)\n",
    "    print(infer.query(variables=[target], evidence = {'Credit amount': i}))"
   ]
  }
 ],
 "metadata": {
  "kernelspec": {
   "display_name": "Python 3 (ipykernel)",
   "language": "python",
   "name": "python3"
  },
  "language_info": {
   "codemirror_mode": {
    "name": "ipython",
    "version": 3
   },
   "file_extension": ".py",
   "mimetype": "text/x-python",
   "name": "python",
   "nbconvert_exporter": "python",
   "pygments_lexer": "ipython3",
   "version": "3.10.9"
  }
 },
 "nbformat": 4,
 "nbformat_minor": 5
}
